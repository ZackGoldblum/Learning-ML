{
  "cells": [
    {
      "cell_type": "code",
      "execution_count": null,
      "metadata": {
        "cellView": "form",
        "id": "hMqWDc_m6rUC"
      },
      "outputs": [],
      "source": [
        "#@title Copyright 2020 Google LLC. Double-click here for license information.\n",
        "# Licensed under the Apache License, Version 2.0 (the \"License\");\n",
        "# you may not use this file except in compliance with the License.\n",
        "# You may obtain a copy of the License at\n",
        "#\n",
        "# https://www.apache.org/licenses/LICENSE-2.0\n",
        "#\n",
        "# Unless required by applicable law or agreed to in writing, software\n",
        "# distributed under the License is distributed on an \"AS IS\" BASIS,\n",
        "# WITHOUT WARRANTIES OR CONDITIONS OF ANY KIND, either express or implied.\n",
        "# See the License for the specific language governing permissions and\n",
        "# limitations under the License."
      ]
    },
    {
      "cell_type": "markdown",
      "metadata": {
        "id": "T4r2z30vJSbA"
      },
      "source": [
        "# Colabs\n",
        "\n",
        "Machine Learning Crash Course uses Colaboratories (Colabs) for all programming exercises. Colab is Google's implementation of [Jupyter Notebook](https://jupyter.org/). For more information about Colabs and how to use them, go to [Welcome to Colaboratory](https://research.google.com/colaboratory)."
      ]
    },
    {
      "cell_type": "markdown",
      "metadata": {
        "id": "4f3CKqFUqL2-"
      },
      "source": [
        "# Validation Sets and Test Sets\n",
        "\n",
        "The previous Colab exercises evaluated the trained model against the training set, which does not provide a strong signal about the quality of your model. In this Colab, you'll experiment with validation sets and test sets.\n",
        "\n",
        "\n",
        "\n",
        "\n"
      ]
    },
    {
      "cell_type": "markdown",
      "metadata": {
        "id": "3spZH_kNkWWX"
      },
      "source": [
        "## Learning objectives\n",
        "\n",
        "After doing this Colab, you'll know how to do the following:\n",
        "\n",
        "  * Split a [training set](https://developers.google.com/machine-learning/glossary/#training_set) into a smaller training set and a [validation set](https://developers.google.com/machine-learning/glossary/#validation_set).\n",
        "  * Analyze deltas between training set and validation set results.\n",
        "  * Test the trained model with a [test set](https://developers.google.com/machine-learning/glossary/#test_set) to determine whether your trained model is [overfitting](https://developers.google.com/machine-learning/glossary/#overfitting).\n",
        "  * Detect and fix a common training problem."
      ]
    },
    {
      "cell_type": "markdown",
      "metadata": {
        "id": "gV82DJO3kWpk"
      },
      "source": [
        "## The dataset\n",
        "\n",
        "As in the previous exercise, this exercise uses the [California Housing dataset](https://developers.google.com/machine-learning/crash-course/california-housing-data-description) to predict the `median_house_value` at the city block level.  Like many \"famous\" datasets, the California Housing Dataset actually consists of two separate datasets, each living in separate .csv files:\n",
        "\n",
        "* The training set is in `california_housing_train.csv`.\n",
        "* The test set is in `california_housing_test.csv`.\n",
        "\n",
        "You'll create the validation set by dividing the downloaded training set into two parts:\n",
        "\n",
        "* a smaller training set  \n",
        "* a validation set"
      ]
    },
    {
      "cell_type": "markdown",
      "metadata": {
        "id": "S8gm6BpqRRuh"
      },
      "source": [
        "## Import relevant modules\n",
        "\n",
        "This first code cell imports the necessary modules and sets a few display options."
      ]
    },
    {
      "cell_type": "code",
      "execution_count": 1,
      "metadata": {
        "cellView": "form",
        "id": "9D8GgUovHbG0"
      },
      "outputs": [
        {
          "name": "stderr",
          "output_type": "stream",
          "text": [
            "2023-10-31 15:09:28.424556: I tensorflow/core/platform/cpu_feature_guard.cc:182] This TensorFlow binary is optimized to use available CPU instructions in performance-critical operations.\n",
            "To enable the following instructions: AVX2 FMA, in other operations, rebuild TensorFlow with the appropriate compiler flags.\n"
          ]
        }
      ],
      "source": [
        "#@title Import modules\n",
        "import numpy as np\n",
        "import pandas as pd\n",
        "import tensorflow as tf\n",
        "from matplotlib import pyplot as plt\n",
        "\n",
        "pd.options.display.max_rows = 10\n",
        "pd.options.display.float_format = \"{:.1f}\".format"
      ]
    },
    {
      "cell_type": "markdown",
      "metadata": {
        "id": "xjvrrClQeAJu"
      },
      "source": [
        "## Load the datasets from the internet\n",
        "\n",
        "The following code cell loads the separate .csv files and creates the following two pandas DataFrames:\n",
        "\n",
        "* `train_df`, which contains the training set.\n",
        "* `test_df`, which contains the test set.\n",
        "\n"
      ]
    },
    {
      "cell_type": "code",
      "execution_count": 2,
      "metadata": {
        "id": "zUnTc_wfd_o3"
      },
      "outputs": [],
      "source": [
        "train_df = pd.read_csv(\"https://download.mlcc.google.com/mledu-datasets/california_housing_train.csv\")\n",
        "test_df = pd.read_csv(\"https://download.mlcc.google.com/mledu-datasets/california_housing_test.csv\")"
      ]
    },
    {
      "cell_type": "markdown",
      "metadata": {
        "id": "P_KBdj2M_yjM"
      },
      "source": [
        "## Scale the label values\n",
        "\n",
        "The following code cell scales the `median_house_value`.\n",
        "See the previous Colab exercise for details."
      ]
    },
    {
      "cell_type": "code",
      "execution_count": 3,
      "metadata": {
        "id": "3hc7QQhaAFXD"
      },
      "outputs": [],
      "source": [
        "scale_factor = 1000.0\n",
        "\n",
        "# Scale the training set's label.\n",
        "train_df[\"median_house_value\"] /= scale_factor\n",
        "\n",
        "# Scale the test set's label\n",
        "test_df[\"median_house_value\"] /= scale_factor"
      ]
    },
    {
      "cell_type": "markdown",
      "metadata": {
        "id": "FhessIIV8VPc"
      },
      "source": [
        "## Load the functions that build and train a model\n",
        "\n",
        "The following code cell defines two functions:\n",
        "\n",
        "  * `build_model`, which defines the model's topography.\n",
        "  * `train_model`, which will ultimately train the model, outputting not only the loss value for the training set but also the loss value for the validation set.\n",
        "\n",
        "Since you don't need to understand model building code right now, we've hidden this code cell. As always, you must run hidden code cells."
      ]
    },
    {
      "cell_type": "code",
      "execution_count": 4,
      "metadata": {
        "cellView": "form",
        "id": "bvonhK857msj"
      },
      "outputs": [
        {
          "name": "stdout",
          "output_type": "stream",
          "text": [
            "Defined the build_model and train_model functions.\n"
          ]
        }
      ],
      "source": [
        "#@title Define the functions that build and train a model\n",
        "def build_model(my_learning_rate):\n",
        "  \"\"\"Create and compile a simple linear regression model.\"\"\"\n",
        "  # Most simple tf.keras models are sequential.\n",
        "  model = tf.keras.models.Sequential()\n",
        "\n",
        "  # Add one linear layer to the model to yield a simple linear regressor.\n",
        "  model.add(tf.keras.layers.Dense(units=1, input_shape=(1,)))\n",
        "\n",
        "  # Compile the model topography into code that TensorFlow can efficiently\n",
        "  # execute. Configure training to minimize the model's mean squared error.\n",
        "  model.compile(optimizer=tf.keras.optimizers.experimental.RMSprop(learning_rate=my_learning_rate),\n",
        "                loss=\"mean_squared_error\",\n",
        "                metrics=[tf.keras.metrics.RootMeanSquaredError()])\n",
        "\n",
        "  return model\n",
        "\n",
        "\n",
        "def train_model(model, df, feature, label, my_epochs,\n",
        "                my_batch_size=None, my_validation_split=0.1):\n",
        "  \"\"\"Feed a dataset into the model in order to train it.\"\"\"\n",
        "\n",
        "  history = model.fit(x=df[feature],\n",
        "                      y=df[label],\n",
        "                      batch_size=my_batch_size,\n",
        "                      epochs=my_epochs,\n",
        "                      validation_split=my_validation_split)\n",
        "\n",
        "  # Gather the model's trained weight and bias.\n",
        "  trained_weight = model.get_weights()[0]\n",
        "  trained_bias = model.get_weights()[1]\n",
        "\n",
        "  # The list of epochs is stored separately from the\n",
        "  # rest of history.\n",
        "  epochs = history.epoch\n",
        "\n",
        "  # Isolate the root mean squared error for each epoch.\n",
        "  hist = pd.DataFrame(history.history)\n",
        "  rmse = hist[\"root_mean_squared_error\"]\n",
        "\n",
        "  return epochs, rmse, history.history\n",
        "\n",
        "print(\"Defined the build_model and train_model functions.\")"
      ]
    },
    {
      "cell_type": "markdown",
      "metadata": {
        "id": "8gRu4Ri0D8tH"
      },
      "source": [
        "## Define plotting functions\n",
        "\n",
        "The `plot_the_loss_curve` function plots loss vs. epochs for both the training set and the validation set."
      ]
    },
    {
      "cell_type": "code",
      "execution_count": 5,
      "metadata": {
        "cellView": "form",
        "id": "QA7hsqPZDvVM"
      },
      "outputs": [
        {
          "name": "stdout",
          "output_type": "stream",
          "text": [
            "Defined the plot_the_loss_curve function.\n"
          ]
        }
      ],
      "source": [
        "#@title Define the plotting function\n",
        "\n",
        "def plot_the_loss_curve(epochs, mae_training, mae_validation):\n",
        "  \"\"\"Plot a curve of loss vs. epoch.\"\"\"\n",
        "\n",
        "  plt.figure()\n",
        "  plt.xlabel(\"Epoch\")\n",
        "  plt.ylabel(\"Root Mean Squared Error\")\n",
        "\n",
        "  plt.plot(epochs[1:], mae_training[1:], label=\"Training Loss\")\n",
        "  plt.plot(epochs[1:], mae_validation[1:], label=\"Validation Loss\")\n",
        "  plt.legend()\n",
        "\n",
        "  # We're not going to plot the first epoch, since the loss on the first epoch\n",
        "  # is often substantially greater than the loss for other epochs.\n",
        "  merged_mae_lists = mae_training[1:] + mae_validation[1:]\n",
        "  highest_loss = max(merged_mae_lists)\n",
        "  lowest_loss = min(merged_mae_lists)\n",
        "  delta = highest_loss - lowest_loss\n",
        "  print(delta)\n",
        "\n",
        "  top_of_y_axis = highest_loss + (delta * 0.05)\n",
        "  bottom_of_y_axis = lowest_loss - (delta * 0.05)\n",
        "\n",
        "  plt.ylim([bottom_of_y_axis, top_of_y_axis])\n",
        "  plt.show()\n",
        "\n",
        "print(\"Defined the plot_the_loss_curve function.\")"
      ]
    },
    {
      "cell_type": "markdown",
      "metadata": {
        "id": "jipBqEQXlsN8"
      },
      "source": [
        "## Task 1: Experiment with the validation split\n",
        "\n",
        "In the following code cell, you'll see a variable named `validation_split`, which we've initialized at 0.2.  The `validation_split` variable specifies the proportion of the original training set that will serve as the validation set. The original training set contains 17,000 examples. Therefore, a `validation_split` of 0.2 means that:\n",
        "\n",
        "* 17,000 * 0.2 ~= 3,400 examples will become the validation set.\n",
        "* 17,000 * 0.8 ~= 13,600 examples will become the new training set.\n",
        "\n",
        "The following code builds a model, trains it on the training set, and evaluates the built model on both:\n",
        "\n",
        "* The training set.\n",
        "* And the validation set.\n",
        "\n",
        "If the data in the training set is similar to the data in the validation set, then the two loss curves and the final loss values should be almost identical. However, the loss curves and final loss values are **not** almost identical. Hmm, that's odd.  \n",
        "\n",
        "Experiment with two or three different values of `validation_split`.  Do different values of `validation_split` fix the problem?\n"
      ]
    },
    {
      "cell_type": "code",
      "execution_count": 9,
      "metadata": {
        "id": "knP23Taoa00a"
      },
      "outputs": [
        {
          "name": "stdout",
          "output_type": "stream",
          "text": [
            "Epoch 1/30\n",
            "136/136 [==============================] - 1s 2ms/step - loss: 41808.6367 - root_mean_squared_error: 204.4716 - val_loss: 50624.8477 - val_root_mean_squared_error: 224.9997\n",
            "Epoch 2/30\n",
            "136/136 [==============================] - 0s 1ms/step - loss: 24236.2871 - root_mean_squared_error: 155.6801 - val_loss: 29822.8047 - val_root_mean_squared_error: 172.6928\n",
            "Epoch 3/30\n",
            "136/136 [==============================] - 0s 1ms/step - loss: 12913.3340 - root_mean_squared_error: 113.6368 - val_loss: 16227.2178 - val_root_mean_squared_error: 127.3861\n",
            "Epoch 4/30\n",
            "136/136 [==============================] - 0s 1ms/step - loss: 7463.6860 - root_mean_squared_error: 86.3926 - val_loss: 9839.6084 - val_root_mean_squared_error: 99.1948\n",
            "Epoch 5/30\n",
            "136/136 [==============================] - 0s 1ms/step - loss: 6518.8594 - root_mean_squared_error: 80.7395 - val_loss: 9350.7598 - val_root_mean_squared_error: 96.6993\n",
            "Epoch 6/30\n",
            "136/136 [==============================] - 0s 1ms/step - loss: 6512.8906 - root_mean_squared_error: 80.7025 - val_loss: 9190.0459 - val_root_mean_squared_error: 95.8647\n",
            "Epoch 7/30\n",
            "136/136 [==============================] - 0s 1ms/step - loss: 6513.3862 - root_mean_squared_error: 80.7056 - val_loss: 9266.3896 - val_root_mean_squared_error: 96.2621\n",
            "Epoch 8/30\n",
            "136/136 [==============================] - 0s 1ms/step - loss: 6511.8794 - root_mean_squared_error: 80.6962 - val_loss: 9216.8555 - val_root_mean_squared_error: 96.0045\n",
            "Epoch 9/30\n",
            "136/136 [==============================] - 0s 1ms/step - loss: 6513.6230 - root_mean_squared_error: 80.7070 - val_loss: 9157.9150 - val_root_mean_squared_error: 95.6970\n",
            "Epoch 10/30\n",
            "136/136 [==============================] - 0s 1ms/step - loss: 6513.2300 - root_mean_squared_error: 80.7046 - val_loss: 9217.8760 - val_root_mean_squared_error: 96.0098\n",
            "Epoch 11/30\n",
            "136/136 [==============================] - 0s 1ms/step - loss: 6513.8994 - root_mean_squared_error: 80.7087 - val_loss: 9261.9375 - val_root_mean_squared_error: 96.2390\n",
            "Epoch 12/30\n",
            "136/136 [==============================] - 0s 1ms/step - loss: 6513.4551 - root_mean_squared_error: 80.7060 - val_loss: 9354.0840 - val_root_mean_squared_error: 96.7165\n",
            "Epoch 13/30\n",
            "136/136 [==============================] - 0s 1ms/step - loss: 6512.9966 - root_mean_squared_error: 80.7031 - val_loss: 9161.9951 - val_root_mean_squared_error: 95.7183\n",
            "Epoch 14/30\n",
            "136/136 [==============================] - 0s 1ms/step - loss: 6514.3267 - root_mean_squared_error: 80.7114 - val_loss: 9212.8125 - val_root_mean_squared_error: 95.9834\n",
            "Epoch 15/30\n",
            "136/136 [==============================] - 0s 1ms/step - loss: 6513.9629 - root_mean_squared_error: 80.7091 - val_loss: 9223.4443 - val_root_mean_squared_error: 96.0388\n",
            "Epoch 16/30\n",
            "136/136 [==============================] - 0s 2ms/step - loss: 6512.4507 - root_mean_squared_error: 80.6998 - val_loss: 9239.5820 - val_root_mean_squared_error: 96.1227\n",
            "Epoch 17/30\n",
            "136/136 [==============================] - 0s 2ms/step - loss: 6512.9702 - root_mean_squared_error: 80.7030 - val_loss: 9407.9502 - val_root_mean_squared_error: 96.9946\n",
            "Epoch 18/30\n",
            "136/136 [==============================] - 0s 1ms/step - loss: 6514.4048 - root_mean_squared_error: 80.7119 - val_loss: 9199.2207 - val_root_mean_squared_error: 95.9126\n",
            "Epoch 19/30\n",
            "136/136 [==============================] - 0s 1ms/step - loss: 6514.0605 - root_mean_squared_error: 80.7097 - val_loss: 9292.3291 - val_root_mean_squared_error: 96.3967\n",
            "Epoch 20/30\n",
            "136/136 [==============================] - 0s 1ms/step - loss: 6513.5176 - root_mean_squared_error: 80.7064 - val_loss: 9373.0293 - val_root_mean_squared_error: 96.8144\n",
            "Epoch 21/30\n",
            "136/136 [==============================] - 0s 1ms/step - loss: 6512.5352 - root_mean_squared_error: 80.7003 - val_loss: 9410.8672 - val_root_mean_squared_error: 97.0096\n",
            "Epoch 22/30\n",
            "136/136 [==============================] - 0s 1ms/step - loss: 6513.0854 - root_mean_squared_error: 80.7037 - val_loss: 9352.0264 - val_root_mean_squared_error: 96.7059\n",
            "Epoch 23/30\n",
            "136/136 [==============================] - 0s 1ms/step - loss: 6513.4072 - root_mean_squared_error: 80.7057 - val_loss: 9200.7246 - val_root_mean_squared_error: 95.9204\n",
            "Epoch 24/30\n",
            "136/136 [==============================] - 0s 1ms/step - loss: 6511.9375 - root_mean_squared_error: 80.6966 - val_loss: 9288.8447 - val_root_mean_squared_error: 96.3787\n",
            "Epoch 25/30\n",
            "136/136 [==============================] - 0s 1ms/step - loss: 6513.5039 - root_mean_squared_error: 80.7063 - val_loss: 9326.6758 - val_root_mean_squared_error: 96.5747\n",
            "Epoch 26/30\n",
            "136/136 [==============================] - 0s 1ms/step - loss: 6511.2822 - root_mean_squared_error: 80.6925 - val_loss: 9490.9463 - val_root_mean_squared_error: 97.4215\n",
            "Epoch 27/30\n",
            "136/136 [==============================] - 0s 1ms/step - loss: 6513.1084 - root_mean_squared_error: 80.7038 - val_loss: 9444.4131 - val_root_mean_squared_error: 97.1824\n",
            "Epoch 28/30\n",
            "136/136 [==============================] - 0s 1ms/step - loss: 6514.0967 - root_mean_squared_error: 80.7100 - val_loss: 9177.9043 - val_root_mean_squared_error: 95.8014\n",
            "Epoch 29/30\n",
            "136/136 [==============================] - 0s 1ms/step - loss: 6512.5669 - root_mean_squared_error: 80.7005 - val_loss: 9190.9727 - val_root_mean_squared_error: 95.8696\n",
            "Epoch 30/30\n",
            "136/136 [==============================] - 0s 1ms/step - loss: 6513.9316 - root_mean_squared_error: 80.7089 - val_loss: 9229.9268 - val_root_mean_squared_error: 96.0725\n",
            "92.00028991699219\n"
          ]
        },
        {
          "data": {
            "image/png": "[encoded data removed]",
            "text/plain": [
              "<Figure size 640x480 with 1 Axes>"
            ]
          },
          "metadata": {},
          "output_type": "display_data"
        }
      ],
      "source": [
        "# The following variables are the hyperparameters.\n",
        "learning_rate = 0.08\n",
        "epochs = 30\n",
        "batch_size = 100\n",
        "\n",
        "# Split the original training set into a reduced training set and a\n",
        "# validation set.\n",
        "validation_split = 0.2\n",
        "\n",
        "# Identify the feature and the label.\n",
        "my_feature = \"median_income\"    # the median income on a specific city block.\n",
        "my_label = \"median_house_value\" # the median house value on a specific city block.\n",
        "# That is, you're going to create a model that predicts house value based\n",
        "# solely on the neighborhood's median income.\n",
        "\n",
        "# Invoke the functions to build and train the model.\n",
        "my_model = build_model(learning_rate)\n",
        "epochs, rmse, history = train_model(my_model, train_df, my_feature,\n",
        "                                    my_label, epochs, batch_size,\n",
        "                                    validation_split)\n",
        "\n",
        "plot_the_loss_curve(epochs, history[\"root_mean_squared_error\"],\n",
        "                    history[\"val_root_mean_squared_error\"])"
      ]
    },
    {
      "cell_type": "markdown",
      "metadata": {
        "id": "TKa11JK4Pm3f"
      },
      "source": [
        "## Task 2: Determine **why** the loss curves differ\n",
        "\n",
        "No matter how you split the training set and the validation set, the loss curves differ significantly. Evidently, the data in the training set isn't similar enough to the data in the validation set. Counterintuitive? Yes, but this problem is actually pretty common in machine learning.\n",
        "\n",
        "Your task is to determine **why** the loss curves aren't highly similar. As with most issues in machine learning, the problem is rooted in the data itself. To solve this mystery of why the training set and validation set aren't almost identical, write a line or two of [pandas code](https://colab.research.google.com/github/google/eng-edu/blob/main/ml/cc/exercises/pandas_dataframe_ultraquick_tutorial.ipynb?utm_source=validation-colab&utm_medium=colab&utm_campaign=colab-external&utm_content=pandas_tf2-colab&hl=en) in the following code cell.  Here are a couple of hints:\n",
        "\n",
        "  * The previous code cell split the original training set into:\n",
        "    * a reduced training set (the original training set - the validation set)\n",
        "    * the validation set\n",
        "  * By default, the pandas [`head`](https://pandas.pydata.org/pandas-docs/stable/reference/api/pandas.DataFrame.head.html) method outputs the *first* 5 rows of the DataFrame. To see more of the training set, specify the `n` argument to `head` and assign a large positive integer to `n`."
      ]
    },
    {
      "cell_type": "code",
      "execution_count": 11,
      "metadata": {
        "id": "VJQcAZkwJt_p"
      },
      "outputs": [],
      "source": [
        "# Write some code in this code cell."
      ]
    },
    {
      "cell_type": "code",
      "execution_count": 12,
      "metadata": {
        "cellView": "form",
        "id": "EnNvkFwwK8WY"
      },
      "outputs": [
        {
          "data": {
            "text/html": [
              "<div>\n",
              "<style scoped>\n",
              "    .dataframe tbody tr th:only-of-type {\n",
              "        vertical-align: middle;\n",
              "    }\n",
              "\n",
              "    .dataframe tbody tr th {\n",
              "        vertical-align: top;\n",
              "    }\n",
              "\n",
              "    .dataframe thead th {\n",
              "        text-align: right;\n",
              "    }\n",
              "</style>\n",
              "<table border=\"1\" class=\"dataframe\">\n",
              "  <thead>\n",
              "    <tr style=\"text-align: right;\">\n",
              "      <th></th>\n",
              "      <th>longitude</th>\n",
              "      <th>latitude</th>\n",
              "      <th>housing_median_age</th>\n",
              "      <th>total_rooms</th>\n",
              "      <th>total_bedrooms</th>\n",
              "      <th>population</th>\n",
              "      <th>households</th>\n",
              "      <th>median_income</th>\n",
              "      <th>median_house_value</th>\n",
              "    </tr>\n",
              "  </thead>\n",
              "  <tbody>\n",
              "    <tr>\n",
              "      <th>0</th>\n",
              "      <td>-114.3</td>\n",
              "      <td>34.2</td>\n",
              "      <td>15.0</td>\n",
              "      <td>5612.0</td>\n",
              "      <td>1283.0</td>\n",
              "      <td>1015.0</td>\n",
              "      <td>472.0</td>\n",
              "      <td>1.5</td>\n",
              "      <td>66.9</td>\n",
              "    </tr>\n",
              "    <tr>\n",
              "      <th>1</th>\n",
              "      <td>-114.5</td>\n",
              "      <td>34.4</td>\n",
              "      <td>19.0</td>\n",
              "      <td>7650.0</td>\n",
              "      <td>1901.0</td>\n",
              "      <td>1129.0</td>\n",
              "      <td>463.0</td>\n",
              "      <td>1.8</td>\n",
              "      <td>80.1</td>\n",
              "    </tr>\n",
              "    <tr>\n",
              "      <th>2</th>\n",
              "      <td>-114.6</td>\n",
              "      <td>33.7</td>\n",
              "      <td>17.0</td>\n",
              "      <td>720.0</td>\n",
              "      <td>174.0</td>\n",
              "      <td>333.0</td>\n",
              "      <td>117.0</td>\n",
              "      <td>1.7</td>\n",
              "      <td>85.7</td>\n",
              "    </tr>\n",
              "    <tr>\n",
              "      <th>3</th>\n",
              "      <td>-114.6</td>\n",
              "      <td>33.6</td>\n",
              "      <td>14.0</td>\n",
              "      <td>1501.0</td>\n",
              "      <td>337.0</td>\n",
              "      <td>515.0</td>\n",
              "      <td>226.0</td>\n",
              "      <td>3.2</td>\n",
              "      <td>73.4</td>\n",
              "    </tr>\n",
              "    <tr>\n",
              "      <th>4</th>\n",
              "      <td>-114.6</td>\n",
              "      <td>33.6</td>\n",
              "      <td>20.0</td>\n",
              "      <td>1454.0</td>\n",
              "      <td>326.0</td>\n",
              "      <td>624.0</td>\n",
              "      <td>262.0</td>\n",
              "      <td>1.9</td>\n",
              "      <td>65.5</td>\n",
              "    </tr>\n",
              "    <tr>\n",
              "      <th>...</th>\n",
              "      <td>...</td>\n",
              "      <td>...</td>\n",
              "      <td>...</td>\n",
              "      <td>...</td>\n",
              "      <td>...</td>\n",
              "      <td>...</td>\n",
              "      <td>...</td>\n",
              "      <td>...</td>\n",
              "      <td>...</td>\n",
              "    </tr>\n",
              "    <tr>\n",
              "      <th>995</th>\n",
              "      <td>-117.1</td>\n",
              "      <td>32.5</td>\n",
              "      <td>8.0</td>\n",
              "      <td>6533.0</td>\n",
              "      <td>1217.0</td>\n",
              "      <td>4797.0</td>\n",
              "      <td>1177.0</td>\n",
              "      <td>4.0</td>\n",
              "      <td>144.4</td>\n",
              "    </tr>\n",
              "    <tr>\n",
              "      <th>996</th>\n",
              "      <td>-117.1</td>\n",
              "      <td>34.6</td>\n",
              "      <td>6.0</td>\n",
              "      <td>5110.0</td>\n",
              "      <td>1044.0</td>\n",
              "      <td>1938.0</td>\n",
              "      <td>724.0</td>\n",
              "      <td>3.2</td>\n",
              "      <td>112.8</td>\n",
              "    </tr>\n",
              "    <tr>\n",
              "      <th>997</th>\n",
              "      <td>-117.1</td>\n",
              "      <td>34.2</td>\n",
              "      <td>22.0</td>\n",
              "      <td>4397.0</td>\n",
              "      <td>931.0</td>\n",
              "      <td>1145.0</td>\n",
              "      <td>445.0</td>\n",
              "      <td>4.5</td>\n",
              "      <td>108.4</td>\n",
              "    </tr>\n",
              "    <tr>\n",
              "      <th>998</th>\n",
              "      <td>-117.1</td>\n",
              "      <td>34.0</td>\n",
              "      <td>24.0</td>\n",
              "      <td>4144.0</td>\n",
              "      <td>826.0</td>\n",
              "      <td>2127.0</td>\n",
              "      <td>772.0</td>\n",
              "      <td>2.5</td>\n",
              "      <td>96.0</td>\n",
              "    </tr>\n",
              "    <tr>\n",
              "      <th>999</th>\n",
              "      <td>-117.1</td>\n",
              "      <td>33.6</td>\n",
              "      <td>6.0</td>\n",
              "      <td>1868.0</td>\n",
              "      <td>289.0</td>\n",
              "      <td>750.0</td>\n",
              "      <td>247.0</td>\n",
              "      <td>4.4</td>\n",
              "      <td>307.6</td>\n",
              "    </tr>\n",
              "  </tbody>\n",
              "</table>\n",
              "<p>1000 rows × 9 columns</p>\n",
              "</div>"
            ],
            "text/plain": [
              "     longitude  latitude  housing_median_age  total_rooms  total_bedrooms  \\\n",
              "0       -114.3      34.2                15.0       5612.0          1283.0   \n",
              "1       -114.5      34.4                19.0       7650.0          1901.0   \n",
              "2       -114.6      33.7                17.0        720.0           174.0   \n",
              "3       -114.6      33.6                14.0       1501.0           337.0   \n",
              "4       -114.6      33.6                20.0       1454.0           326.0   \n",
              "..         ...       ...                 ...          ...             ...   \n",
              "995     -117.1      32.5                 8.0       6533.0          1217.0   \n",
              "996     -117.1      34.6                 6.0       5110.0          1044.0   \n",
              "997     -117.1      34.2                22.0       4397.0           931.0   \n",
              "998     -117.1      34.0                24.0       4144.0           826.0   \n",
              "999     -117.1      33.6                 6.0       1868.0           289.0   \n",
              "\n",
              "     population  households  median_income  median_house_value  \n",
              "0        1015.0       472.0            1.5                66.9  \n",
              "1        1129.0       463.0            1.8                80.1  \n",
              "2         333.0       117.0            1.7                85.7  \n",
              "3         515.0       226.0            3.2                73.4  \n",
              "4         624.0       262.0            1.9                65.5  \n",
              "..          ...         ...            ...                 ...  \n",
              "995      4797.0      1177.0            4.0               144.4  \n",
              "996      1938.0       724.0            3.2               112.8  \n",
              "997      1145.0       445.0            4.5               108.4  \n",
              "998      2127.0       772.0            2.5                96.0  \n",
              "999       750.0       247.0            4.4               307.6  \n",
              "\n",
              "[1000 rows x 9 columns]"
            ]
          },
          "execution_count": 12,
          "metadata": {},
          "output_type": "execute_result"
        }
      ],
      "source": [
        "#@title Double-click for a possible solution to Task 2.\n",
        "\n",
        "# Examine examples 0 through 4 and examples 995 through 999\n",
        "# of the training set\n",
        "train_df.head(n=1000)\n",
        "\n",
        "# The original training set is sorted by longitude.\n",
        "# Apparently, longitude influences the relationship of\n",
        "# total_rooms to median_house_value."
      ]
    },
    {
      "cell_type": "markdown",
      "metadata": {
        "id": "rw4xI1ZEckI8"
      },
      "source": [
        "## Task 3. Fix the problem\n",
        "\n",
        "To fix the problem, shuffle the examples in the training set before splitting the examples into a training set and validation set. To do so, take the following steps:\n",
        "\n",
        "1. Shuffle the data in the training set by adding the following line anywhere before you call `train_model` (in the code cell associated with Task 1):\n",
        "\n",
        "```\n",
        "  shuffled_train_df = train_df.reindex(np.random.permutation(train_df.index))\n",
        "```                                    \n",
        "\n",
        "2. Pass `shuffled_train_df` (instead of `train_df`) as the second argument to `train_model` (in the code call associated with Task 1) so that the call becomes as follows:\n",
        "\n",
        "```\n",
        "  epochs, rmse, history = train_model(my_model, shuffled_train_df, my_feature,\n",
        "                                      my_label, epochs, batch_size,\n",
        "                                      validation_split)\n",
        "```"
      ]
    },
    {
      "cell_type": "code",
      "execution_count": 15,
      "metadata": {
        "cellView": "form",
        "id": "ncODhpv0h-LG"
      },
      "outputs": [
        {
          "name": "stdout",
          "output_type": "stream",
          "text": [
            "Epoch 1/70\n",
            "136/136 [==============================] - 0s 2ms/step - loss: 46167.1289 - root_mean_squared_error: 214.8654 - val_loss: 35506.3828 - val_root_mean_squared_error: 188.4314\n",
            "Epoch 2/70\n",
            "136/136 [==============================] - 0s 1ms/step - loss: 27362.3691 - root_mean_squared_error: 165.4157 - val_loss: 19940.1387 - val_root_mean_squared_error: 141.2095\n",
            "Epoch 3/70\n",
            "136/136 [==============================] - 0s 1ms/step - loss: 14813.7803 - root_mean_squared_error: 121.7119 - val_loss: 10611.5215 - val_root_mean_squared_error: 103.0122\n",
            "Epoch 4/70\n",
            "136/136 [==============================] - 0s 1ms/step - loss: 8416.8115 - root_mean_squared_error: 91.7432 - val_loss: 7212.1836 - val_root_mean_squared_error: 84.9246\n",
            "Epoch 5/70\n",
            "136/136 [==============================] - 0s 1ms/step - loss: 6999.7852 - root_mean_squared_error: 83.6647 - val_loss: 7113.3472 - val_root_mean_squared_error: 84.3407\n",
            "Epoch 6/70\n",
            "136/136 [==============================] - 0s 2ms/step - loss: 6990.8701 - root_mean_squared_error: 83.6114 - val_loss: 7112.6401 - val_root_mean_squared_error: 84.3365\n",
            "Epoch 7/70\n",
            "136/136 [==============================] - 0s 2ms/step - loss: 6989.4512 - root_mean_squared_error: 83.6029 - val_loss: 7111.1777 - val_root_mean_squared_error: 84.3278\n",
            "Epoch 8/70\n",
            "136/136 [==============================] - 0s 1ms/step - loss: 6987.3706 - root_mean_squared_error: 83.5905 - val_loss: 7122.1812 - val_root_mean_squared_error: 84.3930\n",
            "Epoch 9/70\n",
            "136/136 [==============================] - 0s 2ms/step - loss: 6988.6255 - root_mean_squared_error: 83.5980 - val_loss: 7110.8022 - val_root_mean_squared_error: 84.3256\n",
            "Epoch 10/70\n",
            "136/136 [==============================] - 0s 1ms/step - loss: 6990.7378 - root_mean_squared_error: 83.6106 - val_loss: 7115.5518 - val_root_mean_squared_error: 84.3537\n",
            "Epoch 11/70\n",
            "136/136 [==============================] - 0s 2ms/step - loss: 6990.2305 - root_mean_squared_error: 83.6076 - val_loss: 7110.6973 - val_root_mean_squared_error: 84.3250\n",
            "Epoch 12/70\n",
            "136/136 [==============================] - 0s 1ms/step - loss: 6990.3413 - root_mean_squared_error: 83.6083 - val_loss: 7110.8813 - val_root_mean_squared_error: 84.3260\n",
            "Epoch 13/70\n",
            "136/136 [==============================] - 0s 1ms/step - loss: 6990.0947 - root_mean_squared_error: 83.6068 - val_loss: 7114.6147 - val_root_mean_squared_error: 84.3482\n",
            "Epoch 14/70\n",
            "136/136 [==============================] - 0s 1ms/step - loss: 6990.8506 - root_mean_squared_error: 83.6113 - val_loss: 7110.8105 - val_root_mean_squared_error: 84.3256\n",
            "Epoch 15/70\n",
            "136/136 [==============================] - 0s 1ms/step - loss: 6990.8652 - root_mean_squared_error: 83.6114 - val_loss: 7111.4492 - val_root_mean_squared_error: 84.3294\n",
            "Epoch 16/70\n",
            "136/136 [==============================] - 0s 1ms/step - loss: 6988.6411 - root_mean_squared_error: 83.5981 - val_loss: 7112.2612 - val_root_mean_squared_error: 84.3342\n",
            "Epoch 17/70\n",
            "136/136 [==============================] - 0s 1ms/step - loss: 6991.4302 - root_mean_squared_error: 83.6148 - val_loss: 7111.0161 - val_root_mean_squared_error: 84.3268\n",
            "Epoch 18/70\n",
            "136/136 [==============================] - 0s 1ms/step - loss: 6990.7690 - root_mean_squared_error: 83.6108 - val_loss: 7111.7271 - val_root_mean_squared_error: 84.3311\n",
            "Epoch 19/70\n",
            "136/136 [==============================] - 0s 1ms/step - loss: 6990.9561 - root_mean_squared_error: 83.6119 - val_loss: 7112.9595 - val_root_mean_squared_error: 84.3384\n",
            "Epoch 20/70\n",
            "136/136 [==============================] - 0s 1ms/step - loss: 6990.8560 - root_mean_squared_error: 83.6113 - val_loss: 7110.8643 - val_root_mean_squared_error: 84.3259\n",
            "Epoch 21/70\n",
            "136/136 [==============================] - 0s 1ms/step - loss: 6990.3096 - root_mean_squared_error: 83.6081 - val_loss: 7113.6255 - val_root_mean_squared_error: 84.3423\n",
            "Epoch 22/70\n",
            "136/136 [==============================] - 0s 1ms/step - loss: 6990.4517 - root_mean_squared_error: 83.6089 - val_loss: 7115.1836 - val_root_mean_squared_error: 84.3515\n",
            "Epoch 23/70\n",
            "136/136 [==============================] - 0s 1ms/step - loss: 6990.3018 - root_mean_squared_error: 83.6080 - val_loss: 7113.0249 - val_root_mean_squared_error: 84.3388\n",
            "Epoch 24/70\n",
            "136/136 [==============================] - 0s 1ms/step - loss: 6989.7925 - root_mean_squared_error: 83.6050 - val_loss: 7112.6177 - val_root_mean_squared_error: 84.3363\n",
            "Epoch 25/70\n",
            "136/136 [==============================] - 0s 1ms/step - loss: 6990.5356 - root_mean_squared_error: 83.6094 - val_loss: 7110.9019 - val_root_mean_squared_error: 84.3262\n",
            "Epoch 26/70\n",
            "136/136 [==============================] - 0s 1ms/step - loss: 6990.1763 - root_mean_squared_error: 83.6073 - val_loss: 7114.7432 - val_root_mean_squared_error: 84.3489\n",
            "Epoch 27/70\n",
            "136/136 [==============================] - 0s 1ms/step - loss: 6991.0854 - root_mean_squared_error: 83.6127 - val_loss: 7113.3701 - val_root_mean_squared_error: 84.3408\n",
            "Epoch 28/70\n",
            "136/136 [==============================] - 0s 1ms/step - loss: 6990.2959 - root_mean_squared_error: 83.6080 - val_loss: 7115.0898 - val_root_mean_squared_error: 84.3510\n",
            "Epoch 29/70\n",
            "136/136 [==============================] - 0s 1ms/step - loss: 6986.5742 - root_mean_squared_error: 83.5857 - val_loss: 7113.0312 - val_root_mean_squared_error: 84.3388\n",
            "Epoch 30/70\n",
            "136/136 [==============================] - 0s 1ms/step - loss: 6989.9487 - root_mean_squared_error: 83.6059 - val_loss: 7110.9839 - val_root_mean_squared_error: 84.3267\n",
            "Epoch 31/70\n",
            "136/136 [==============================] - 0s 2ms/step - loss: 6990.6587 - root_mean_squared_error: 83.6102 - val_loss: 7110.7852 - val_root_mean_squared_error: 84.3255\n",
            "Epoch 32/70\n",
            "136/136 [==============================] - 0s 1ms/step - loss: 6990.8857 - root_mean_squared_error: 83.6115 - val_loss: 7115.4712 - val_root_mean_squared_error: 84.3532\n",
            "Epoch 33/70\n",
            "136/136 [==============================] - 0s 1ms/step - loss: 6989.5269 - root_mean_squared_error: 83.6034 - val_loss: 7111.6904 - val_root_mean_squared_error: 84.3308\n",
            "Epoch 34/70\n",
            "136/136 [==============================] - 0s 1ms/step - loss: 6990.7666 - root_mean_squared_error: 83.6108 - val_loss: 7111.7520 - val_root_mean_squared_error: 84.3312\n",
            "Epoch 35/70\n",
            "136/136 [==============================] - 0s 2ms/step - loss: 6990.1025 - root_mean_squared_error: 83.6068 - val_loss: 7118.3872 - val_root_mean_squared_error: 84.3705\n",
            "Epoch 36/70\n",
            "136/136 [==============================] - 0s 1ms/step - loss: 6989.4048 - root_mean_squared_error: 83.6027 - val_loss: 7112.8154 - val_root_mean_squared_error: 84.3375\n",
            "Epoch 37/70\n",
            "136/136 [==============================] - 0s 1ms/step - loss: 6985.6284 - root_mean_squared_error: 83.5801 - val_loss: 7120.1006 - val_root_mean_squared_error: 84.3807\n",
            "Epoch 38/70\n",
            "136/136 [==============================] - 0s 1ms/step - loss: 6990.5356 - root_mean_squared_error: 83.6094 - val_loss: 7115.4106 - val_root_mean_squared_error: 84.3529\n",
            "Epoch 39/70\n",
            "136/136 [==============================] - 0s 1ms/step - loss: 6990.9062 - root_mean_squared_error: 83.6116 - val_loss: 7111.7812 - val_root_mean_squared_error: 84.3314\n",
            "Epoch 40/70\n",
            "136/136 [==============================] - 0s 1ms/step - loss: 6990.5063 - root_mean_squared_error: 83.6092 - val_loss: 7115.7847 - val_root_mean_squared_error: 84.3551\n",
            "Epoch 41/70\n",
            "136/136 [==============================] - 0s 1ms/step - loss: 6991.2266 - root_mean_squared_error: 83.6136 - val_loss: 7112.0483 - val_root_mean_squared_error: 84.3330\n",
            "Epoch 42/70\n",
            "136/136 [==============================] - 0s 1ms/step - loss: 6989.9351 - root_mean_squared_error: 83.6058 - val_loss: 7113.5649 - val_root_mean_squared_error: 84.3419\n",
            "Epoch 43/70\n",
            "136/136 [==============================] - 0s 1ms/step - loss: 6990.0767 - root_mean_squared_error: 83.6067 - val_loss: 7111.2637 - val_root_mean_squared_error: 84.3283\n",
            "Epoch 44/70\n",
            "136/136 [==============================] - 0s 1ms/step - loss: 6989.5781 - root_mean_squared_error: 83.6037 - val_loss: 7112.3628 - val_root_mean_squared_error: 84.3348\n",
            "Epoch 45/70\n",
            "136/136 [==============================] - 0s 1ms/step - loss: 6990.7676 - root_mean_squared_error: 83.6108 - val_loss: 7112.3110 - val_root_mean_squared_error: 84.3345\n",
            "Epoch 46/70\n",
            "136/136 [==============================] - 0s 1ms/step - loss: 6990.5566 - root_mean_squared_error: 83.6096 - val_loss: 7110.7749 - val_root_mean_squared_error: 84.3254\n",
            "Epoch 47/70\n",
            "136/136 [==============================] - 0s 1ms/step - loss: 6990.5068 - root_mean_squared_error: 83.6093 - val_loss: 7111.0366 - val_root_mean_squared_error: 84.3270\n",
            "Epoch 48/70\n",
            "136/136 [==============================] - 0s 1ms/step - loss: 6989.9175 - root_mean_squared_error: 83.6057 - val_loss: 7117.2725 - val_root_mean_squared_error: 84.3639\n",
            "Epoch 49/70\n",
            "136/136 [==============================] - 0s 1ms/step - loss: 6990.7319 - root_mean_squared_error: 83.6106 - val_loss: 7114.5098 - val_root_mean_squared_error: 84.3476\n",
            "Epoch 50/70\n",
            "136/136 [==============================] - 0s 1ms/step - loss: 6989.5615 - root_mean_squared_error: 83.6036 - val_loss: 7110.8911 - val_root_mean_squared_error: 84.3261\n",
            "Epoch 51/70\n",
            "136/136 [==============================] - 0s 1ms/step - loss: 6989.7402 - root_mean_squared_error: 83.6047 - val_loss: 7116.4434 - val_root_mean_squared_error: 84.3590\n",
            "Epoch 52/70\n",
            "136/136 [==============================] - 0s 1ms/step - loss: 6989.9175 - root_mean_squared_error: 83.6057 - val_loss: 7110.7949 - val_root_mean_squared_error: 84.3255\n",
            "Epoch 53/70\n",
            "136/136 [==============================] - 0s 1ms/step - loss: 6990.1313 - root_mean_squared_error: 83.6070 - val_loss: 7113.1890 - val_root_mean_squared_error: 84.3397\n",
            "Epoch 54/70\n",
            "136/136 [==============================] - 0s 1ms/step - loss: 6990.7349 - root_mean_squared_error: 83.6106 - val_loss: 7111.1318 - val_root_mean_squared_error: 84.3275\n",
            "Epoch 55/70\n",
            "136/136 [==============================] - 0s 1ms/step - loss: 6990.5029 - root_mean_squared_error: 83.6092 - val_loss: 7114.2002 - val_root_mean_squared_error: 84.3457\n",
            "Epoch 56/70\n",
            "136/136 [==============================] - 0s 1ms/step - loss: 6989.0923 - root_mean_squared_error: 83.6008 - val_loss: 7110.7754 - val_root_mean_squared_error: 84.3254\n",
            "Epoch 57/70\n",
            "136/136 [==============================] - 0s 1ms/step - loss: 6990.1499 - root_mean_squared_error: 83.6071 - val_loss: 7111.7598 - val_root_mean_squared_error: 84.3313\n",
            "Epoch 58/70\n",
            "136/136 [==============================] - 0s 1ms/step - loss: 6990.8530 - root_mean_squared_error: 83.6113 - val_loss: 7113.8296 - val_root_mean_squared_error: 84.3435\n",
            "Epoch 59/70\n",
            "136/136 [==============================] - 0s 1ms/step - loss: 6990.3701 - root_mean_squared_error: 83.6084 - val_loss: 7111.4570 - val_root_mean_squared_error: 84.3295\n",
            "Epoch 60/70\n",
            "136/136 [==============================] - 0s 1ms/step - loss: 6989.6533 - root_mean_squared_error: 83.6041 - val_loss: 7116.4888 - val_root_mean_squared_error: 84.3593\n",
            "Epoch 61/70\n",
            "136/136 [==============================] - 0s 1ms/step - loss: 6990.2749 - root_mean_squared_error: 83.6079 - val_loss: 7110.7100 - val_root_mean_squared_error: 84.3250\n",
            "Epoch 62/70\n",
            "136/136 [==============================] - 0s 1ms/step - loss: 6991.1182 - root_mean_squared_error: 83.6129 - val_loss: 7110.7412 - val_root_mean_squared_error: 84.3252\n",
            "Epoch 63/70\n",
            "136/136 [==============================] - 0s 1ms/step - loss: 6990.2529 - root_mean_squared_error: 83.6077 - val_loss: 7110.7539 - val_root_mean_squared_error: 84.3253\n",
            "Epoch 64/70\n",
            "136/136 [==============================] - 0s 1ms/step - loss: 6987.1128 - root_mean_squared_error: 83.5890 - val_loss: 7123.7280 - val_root_mean_squared_error: 84.4022\n",
            "Epoch 65/70\n",
            "136/136 [==============================] - 0s 1ms/step - loss: 6991.4307 - root_mean_squared_error: 83.6148 - val_loss: 7110.6865 - val_root_mean_squared_error: 84.3249\n",
            "Epoch 66/70\n",
            "136/136 [==============================] - 0s 1ms/step - loss: 6990.4292 - root_mean_squared_error: 83.6088 - val_loss: 7114.6411 - val_root_mean_squared_error: 84.3483\n",
            "Epoch 67/70\n",
            "136/136 [==============================] - 0s 1ms/step - loss: 6990.2222 - root_mean_squared_error: 83.6076 - val_loss: 7110.7681 - val_root_mean_squared_error: 84.3254\n",
            "Epoch 68/70\n",
            "136/136 [==============================] - 0s 1ms/step - loss: 6989.2588 - root_mean_squared_error: 83.6018 - val_loss: 7114.5889 - val_root_mean_squared_error: 84.3480\n",
            "Epoch 69/70\n",
            "136/136 [==============================] - 0s 1ms/step - loss: 6990.5229 - root_mean_squared_error: 83.6093 - val_loss: 7110.8652 - val_root_mean_squared_error: 84.3260\n",
            "Epoch 70/70\n",
            "136/136 [==============================] - 0s 1ms/step - loss: 6989.3623 - root_mean_squared_error: 83.6024 - val_loss: 7111.9922 - val_root_mean_squared_error: 84.3326\n",
            "81.8356704711914\n"
          ]
        },
        {
          "data": {
            "image/png": "[encoded data removed]",
            "text/plain": [
              "<Figure size 640x480 with 1 Axes>"
            ]
          },
          "metadata": {},
          "output_type": "display_data"
        }
      ],
      "source": [
        "#@title Double-click to view the complete implementation.\n",
        "\n",
        "# The following variables are the hyperparameters.\n",
        "learning_rate = 0.08\n",
        "epochs = 70\n",
        "batch_size = 100\n",
        "\n",
        "# Split the original training set into a reduced training set and a\n",
        "# validation set.\n",
        "validation_split = 0.2\n",
        "\n",
        "# Identify the feature and the label.\n",
        "my_feature = \"median_income\"    # the median income on a specific city block.\n",
        "my_label = \"median_house_value\" # the median house value on a specific city block.\n",
        "# That is, you're going to create a model that predicts house value based\n",
        "# solely on the neighborhood's median income.\n",
        "\n",
        "# Shuffle the examples.\n",
        "shuffled_train_df = train_df.reindex(np.random.permutation(train_df.index))\n",
        "\n",
        "# Invoke the functions to build and train the model. Train on the shuffled\n",
        "# training set.\n",
        "my_model = build_model(learning_rate)\n",
        "epochs, rmse, history = train_model(my_model, shuffled_train_df, my_feature,\n",
        "                                    my_label, epochs, batch_size,\n",
        "                                    validation_split)\n",
        "\n",
        "plot_the_loss_curve(epochs, history[\"root_mean_squared_error\"],\n",
        "                    history[\"val_root_mean_squared_error\"])"
      ]
    },
    {
      "cell_type": "markdown",
      "metadata": {
        "id": "tKN239_miW8C"
      },
      "source": [
        "Experiment with `validation_split` to answer the following questions:\n",
        "\n",
        "* With the training set shuffled, is the final loss for the training set closer to the final loss for the validation set?  \n",
        "* At what range of values of `validation_split` do the final loss values for the training set and validation set diverge meaningfully?  Why?"
      ]
    },
    {
      "cell_type": "code",
      "execution_count": 16,
      "metadata": {
        "cellView": "form",
        "id": "-UAJ3Q86iz31"
      },
      "outputs": [],
      "source": [
        "#@title Double-click for the answers to the questions\n",
        "\n",
        "# Yes, after shuffling the original training set,\n",
        "# the final loss for the training set and the\n",
        "# validation set become much closer.\n",
        "\n",
        "# If validation_split < 0.15,\n",
        "# the final loss values for the training set and\n",
        "# validation set diverge meaningfully.  Apparently,\n",
        "# the validation set no longer contains enough examples."
      ]
    },
    {
      "cell_type": "markdown",
      "metadata": {
        "id": "1PP-O8TOZOeo"
      },
      "source": [
        "## Task 4: Use the Test Dataset to Evaluate Your Model's Performance\n",
        "\n",
        "The test set usually acts as the ultimate judge of a model's quality. The test set can serve as an impartial judge because its examples haven't been used in training the model. Run the following code cell to evaluate the model with the test set:"
      ]
    },
    {
      "cell_type": "code",
      "execution_count": 17,
      "metadata": {
        "id": "nd_Sw2cygOip"
      },
      "outputs": [
        {
          "name": "stdout",
          "output_type": "stream",
          "text": [
            "30/30 [==============================] - 0s 1ms/step - loss: 7009.3267 - root_mean_squared_error: 83.7217\n"
          ]
        }
      ],
      "source": [
        "x_test = test_df[my_feature]\n",
        "y_test = test_df[my_label]\n",
        "\n",
        "results = my_model.evaluate(x_test, y_test, batch_size=batch_size)"
      ]
    },
    {
      "cell_type": "markdown",
      "metadata": {
        "id": "qoyQKvsjmV_A"
      },
      "source": [
        "Compare the root mean squared error of the model when evaluated on each of the three datasets:\n",
        "\n",
        "* training set: look for `root_mean_squared_error` in the final training epoch.\n",
        "* validation set: look for `val_root_mean_squared_error` in the final training epoch.\n",
        "* test set: run the preceding code cell and examine the `root_mean_squared_error`.\n",
        "\n",
        "Ideally, the root mean squared error of all three sets should be similar. Are they?"
      ]
    },
    {
      "cell_type": "markdown",
      "metadata": {},
      "source": []
    },
    {
      "cell_type": "code",
      "execution_count": null,
      "metadata": {
        "cellView": "form",
        "id": "FxXtp-aVdIgJ"
      },
      "outputs": [],
      "source": [
        "#@title Double-click for an answer\n",
        "\n",
        "# In our experiments, yes, the rmse values\n",
        "# were similar enough."
      ]
    }
  ],
  "metadata": {
    "colab": {
      "name": "Validation and Test Sets.ipynb",
      "private_outputs": true,
      "provenance": []
    },
    "kernelspec": {
      "display_name": "Python 3",
      "name": "python3"
    },
    "language_info": {
      "codemirror_mode": {
        "name": "ipython",
        "version": 3
      },
      "file_extension": ".py",
      "mimetype": "text/x-python",
      "name": "python",
      "nbconvert_exporter": "python",
      "pygments_lexer": "ipython3",
      "version": "3.11.5"
    }
  },
  "nbformat": 4,
  "nbformat_minor": 0
}
